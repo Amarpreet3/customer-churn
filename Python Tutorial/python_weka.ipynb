{
  "cells": [
    {
      "cell_type": "markdown",
      "metadata": {
        "id": "khEhhmEdDQtA"
      },
      "source": [
        "**Tutorial 2**\n",
        "\n",
        "This tutorial is based on using  ML package Weka for machine learning. Weka is a famous machine learning software and a set of libraries that one can use within a programming language. Weka was created at the University of Waikato, New Zealnd (https://www.cs.waikato.ac.nz/ml/weka/). It is accompanied with a text book of data mining taught in schools around the world (https://www.cs.waikato.ac.nz/ml/weka/book.html). The advantage of using Weka's Python package is that the implementation of algorithms is complete, comprehsive and easy to use. Let's see below.\n"
      ]
    },
    {
      "cell_type": "markdown",
      "metadata": {
        "id": "GNlbkyZYFvoX"
      },
      "source": [
        "First install Weka's Python package."
      ]
    },
    {
      "cell_type": "code",
      "execution_count": null,
      "metadata": {
        "colab": {
          "base_uri": "https://localhost:8080/"
        },
        "id": "koJw1ZNd5n6o",
        "outputId": "78d8eac2-bb88-4b77-c45a-1f173105cc39",
        "vscode": {
          "languageId": "python"
        }
      },
      "outputs": [],
      "source": [
        "! pip install python-weka-wrapper3"
      ]
    },
    {
      "cell_type": "markdown",
      "metadata": {
        "id": "fpl1jBlgDXXG"
      },
      "source": [
        "Weka was built on Java, and below we shall be setting Java and launching it in Python environment. Don't worry about understanding this code. "
      ]
    },
    {
      "cell_type": "code",
      "execution_count": null,
      "metadata": {
        "id": "R7q53sHc7JXM",
        "vscode": {
          "languageId": "python"
        }
      },
      "outputs": [],
      "source": [
        "import os\n",
        "import sys\n",
        "sys.path\n",
        "sys.path.append(\"/usr/lib/jvm/java-11-openjdk-amd64/bin/\")\n",
        "os.environ[\"JAVA_HOME\"] = \"/usr/lib/jvm/java-11-openjdk-amd64/\"\n",
        "\n"
      ]
    },
    {
      "cell_type": "code",
      "execution_count": null,
      "metadata": {
        "colab": {
          "base_uri": "https://localhost:8080/"
        },
        "id": "qqBmTg0T7UoD",
        "outputId": "b7106cf1-569e-4103-fa16-227c7bc36e61",
        "vscode": {
          "languageId": "python"
        }
      },
      "outputs": [],
      "source": [
        "\n",
        "import weka.core.jvm as jvm\n",
        "jvm.start()"
      ]
    },
    {
      "cell_type": "markdown",
      "metadata": {
        "id": "sDyzyakqGxbK"
      },
      "source": [
        "We shall now upload a dataset file. Weka works with arff format easily, it can load CSV too. We shall upload .arff file because I have defined the correct data types of variables (cagtegorical or numerical) in it already."
      ]
    },
    {
      "cell_type": "code",
      "execution_count": null,
      "metadata": {
        "colab": {
          "base_uri": "https://localhost:8080/",
          "height": 72,
          "resources": {
            "http://localhost:8080/nbextensions/google.colab/files.js": {
              "data": "Ly8gQ29weXJpZ2h0IDIwMTcgR29vZ2xlIExMQwovLwovLyBMaWNlbnNlZCB1bmRlciB0aGUgQXBhY2hlIExpY2Vuc2UsIFZlcnNpb24gMi4wICh0aGUgIkxpY2Vuc2UiKTsKLy8geW91IG1heSBub3QgdXNlIHRoaXMgZmlsZSBleGNlcHQgaW4gY29tcGxpYW5jZSB3aXRoIHRoZSBMaWNlbnNlLgovLyBZb3UgbWF5IG9idGFpbiBhIGNvcHkgb2YgdGhlIExpY2Vuc2UgYXQKLy8KLy8gICAgICBodHRwOi8vd3d3LmFwYWNoZS5vcmcvbGljZW5zZXMvTElDRU5TRS0yLjAKLy8KLy8gVW5sZXNzIHJlcXVpcmVkIGJ5IGFwcGxpY2FibGUgbGF3IG9yIGFncmVlZCB0byBpbiB3cml0aW5nLCBzb2Z0d2FyZQovLyBkaXN0cmlidXRlZCB1bmRlciB0aGUgTGljZW5zZSBpcyBkaXN0cmlidXRlZCBvbiBhbiAiQVMgSVMiIEJBU0lTLAovLyBXSVRIT1VUIFdBUlJBTlRJRVMgT1IgQ09ORElUSU9OUyBPRiBBTlkgS0lORCwgZWl0aGVyIGV4cHJlc3Mgb3IgaW1wbGllZC4KLy8gU2VlIHRoZSBMaWNlbnNlIGZvciB0aGUgc3BlY2lmaWMgbGFuZ3VhZ2UgZ292ZXJuaW5nIHBlcm1pc3Npb25zIGFuZAovLyBsaW1pdGF0aW9ucyB1bmRlciB0aGUgTGljZW5zZS4KCi8qKgogKiBAZmlsZW92ZXJ2aWV3IEhlbHBlcnMgZm9yIGdvb2dsZS5jb2xhYiBQeXRob24gbW9kdWxlLgogKi8KKGZ1bmN0aW9uKHNjb3BlKSB7CmZ1bmN0aW9uIHNwYW4odGV4dCwgc3R5bGVBdHRyaWJ1dGVzID0ge30pIHsKICBjb25zdCBlbGVtZW50ID0gZG9jdW1lbnQuY3JlYXRlRWxlbWVudCgnc3BhbicpOwogIGVsZW1lbnQudGV4dENvbnRlbnQgPSB0ZXh0OwogIGZvciAoY29uc3Qga2V5IG9mIE9iamVjdC5rZXlzKHN0eWxlQXR0cmlidXRlcykpIHsKICAgIGVsZW1lbnQuc3R5bGVba2V5XSA9IHN0eWxlQXR0cmlidXRlc1trZXldOwogIH0KICByZXR1cm4gZWxlbWVudDsKfQoKLy8gTWF4IG51bWJlciBvZiBieXRlcyB3aGljaCB3aWxsIGJlIHVwbG9hZGVkIGF0IGEgdGltZS4KY29uc3QgTUFYX1BBWUxPQURfU0laRSA9IDEwMCAqIDEwMjQ7CgpmdW5jdGlvbiBfdXBsb2FkRmlsZXMoaW5wdXRJZCwgb3V0cHV0SWQpIHsKICBjb25zdCBzdGVwcyA9IHVwbG9hZEZpbGVzU3RlcChpbnB1dElkLCBvdXRwdXRJZCk7CiAgY29uc3Qgb3V0cHV0RWxlbWVudCA9IGRvY3VtZW50LmdldEVsZW1lbnRCeUlkKG91dHB1dElkKTsKICAvLyBDYWNoZSBzdGVwcyBvbiB0aGUgb3V0cHV0RWxlbWVudCB0byBtYWtlIGl0IGF2YWlsYWJsZSBmb3IgdGhlIG5leHQgY2FsbAogIC8vIHRvIHVwbG9hZEZpbGVzQ29udGludWUgZnJvbSBQeXRob24uCiAgb3V0cHV0RWxlbWVudC5zdGVwcyA9IHN0ZXBzOwoKICByZXR1cm4gX3VwbG9hZEZpbGVzQ29udGludWUob3V0cHV0SWQpOwp9CgovLyBUaGlzIGlzIHJvdWdobHkgYW4gYXN5bmMgZ2VuZXJhdG9yIChub3Qgc3VwcG9ydGVkIGluIHRoZSBicm93c2VyIHlldCksCi8vIHdoZXJlIHRoZXJlIGFyZSBtdWx0aXBsZSBhc3luY2hyb25vdXMgc3RlcHMgYW5kIHRoZSBQeXRob24gc2lkZSBpcyBnb2luZwovLyB0byBwb2xsIGZvciBjb21wbGV0aW9uIG9mIGVhY2ggc3RlcC4KLy8gVGhpcyB1c2VzIGEgUHJvbWlzZSB0byBibG9jayB0aGUgcHl0aG9uIHNpZGUgb24gY29tcGxldGlvbiBvZiBlYWNoIHN0ZXAsCi8vIHRoZW4gcGFzc2VzIHRoZSByZXN1bHQgb2YgdGhlIHByZXZpb3VzIHN0ZXAgYXMgdGhlIGlucHV0IHRvIHRoZSBuZXh0IHN0ZXAuCmZ1bmN0aW9uIF91cGxvYWRGaWxlc0NvbnRpbnVlKG91dHB1dElkKSB7CiAgY29uc3Qgb3V0cHV0RWxlbWVudCA9IGRvY3VtZW50LmdldEVsZW1lbnRCeUlkKG91dHB1dElkKTsKICBjb25zdCBzdGVwcyA9IG91dHB1dEVsZW1lbnQuc3RlcHM7CgogIGNvbnN0IG5leHQgPSBzdGVwcy5uZXh0KG91dHB1dEVsZW1lbnQubGFzdFByb21pc2VWYWx1ZSk7CiAgcmV0dXJuIFByb21pc2UucmVzb2x2ZShuZXh0LnZhbHVlLnByb21pc2UpLnRoZW4oKHZhbHVlKSA9PiB7CiAgICAvLyBDYWNoZSB0aGUgbGFzdCBwcm9taXNlIHZhbHVlIHRvIG1ha2UgaXQgYXZhaWxhYmxlIHRvIHRoZSBuZXh0CiAgICAvLyBzdGVwIG9mIHRoZSBnZW5lcmF0b3IuCiAgICBvdXRwdXRFbGVtZW50Lmxhc3RQcm9taXNlVmFsdWUgPSB2YWx1ZTsKICAgIHJldHVybiBuZXh0LnZhbHVlLnJlc3BvbnNlOwogIH0pOwp9CgovKioKICogR2VuZXJhdG9yIGZ1bmN0aW9uIHdoaWNoIGlzIGNhbGxlZCBiZXR3ZWVuIGVhY2ggYXN5bmMgc3RlcCBvZiB0aGUgdXBsb2FkCiAqIHByb2Nlc3MuCiAqIEBwYXJhbSB7c3RyaW5nfSBpbnB1dElkIEVsZW1lbnQgSUQgb2YgdGhlIGlucHV0IGZpbGUgcGlja2VyIGVsZW1lbnQuCiAqIEBwYXJhbSB7c3RyaW5nfSBvdXRwdXRJZCBFbGVtZW50IElEIG9mIHRoZSBvdXRwdXQgZGlzcGxheS4KICogQHJldHVybiB7IUl0ZXJhYmxlPCFPYmplY3Q+fSBJdGVyYWJsZSBvZiBuZXh0IHN0ZXBzLgogKi8KZnVuY3Rpb24qIHVwbG9hZEZpbGVzU3RlcChpbnB1dElkLCBvdXRwdXRJZCkgewogIGNvbnN0IGlucHV0RWxlbWVudCA9IGRvY3VtZW50LmdldEVsZW1lbnRCeUlkKGlucHV0SWQpOwogIGlucHV0RWxlbWVudC5kaXNhYmxlZCA9IGZhbHNlOwoKICBjb25zdCBvdXRwdXRFbGVtZW50ID0gZG9jdW1lbnQuZ2V0RWxlbWVudEJ5SWQob3V0cHV0SWQpOwogIG91dHB1dEVsZW1lbnQuaW5uZXJIVE1MID0gJyc7CgogIGNvbnN0IHBpY2tlZFByb21pc2UgPSBuZXcgUHJvbWlzZSgocmVzb2x2ZSkgPT4gewogICAgaW5wdXRFbGVtZW50LmFkZEV2ZW50TGlzdGVuZXIoJ2NoYW5nZScsIChlKSA9PiB7CiAgICAgIHJlc29sdmUoZS50YXJnZXQuZmlsZXMpOwogICAgfSk7CiAgfSk7CgogIGNvbnN0IGNhbmNlbCA9IGRvY3VtZW50LmNyZWF0ZUVsZW1lbnQoJ2J1dHRvbicpOwogIGlucHV0RWxlbWVudC5wYXJlbnRFbGVtZW50LmFwcGVuZENoaWxkKGNhbmNlbCk7CiAgY2FuY2VsLnRleHRDb250ZW50ID0gJ0NhbmNlbCB1cGxvYWQnOwogIGNvbnN0IGNhbmNlbFByb21pc2UgPSBuZXcgUHJvbWlzZSgocmVzb2x2ZSkgPT4gewogICAgY2FuY2VsLm9uY2xpY2sgPSAoKSA9PiB7CiAgICAgIHJlc29sdmUobnVsbCk7CiAgICB9OwogIH0pOwoKICAvLyBXYWl0IGZvciB0aGUgdXNlciB0byBwaWNrIHRoZSBmaWxlcy4KICBjb25zdCBmaWxlcyA9IHlpZWxkIHsKICAgIHByb21pc2U6IFByb21pc2UucmFjZShbcGlja2VkUHJvbWlzZSwgY2FuY2VsUHJvbWlzZV0pLAogICAgcmVzcG9uc2U6IHsKICAgICAgYWN0aW9uOiAnc3RhcnRpbmcnLAogICAgfQogIH07CgogIGNhbmNlbC5yZW1vdmUoKTsKCiAgLy8gRGlzYWJsZSB0aGUgaW5wdXQgZWxlbWVudCBzaW5jZSBmdXJ0aGVyIHBpY2tzIGFyZSBub3QgYWxsb3dlZC4KICBpbnB1dEVsZW1lbnQuZGlzYWJsZWQgPSB0cnVlOwoKICBpZiAoIWZpbGVzKSB7CiAgICByZXR1cm4gewogICAgICByZXNwb25zZTogewogICAgICAgIGFjdGlvbjogJ2NvbXBsZXRlJywKICAgICAgfQogICAgfTsKICB9CgogIGZvciAoY29uc3QgZmlsZSBvZiBmaWxlcykgewogICAgY29uc3QgbGkgPSBkb2N1bWVudC5jcmVhdGVFbGVtZW50KCdsaScpOwogICAgbGkuYXBwZW5kKHNwYW4oZmlsZS5uYW1lLCB7Zm9udFdlaWdodDogJ2JvbGQnfSkpOwogICAgbGkuYXBwZW5kKHNwYW4oCiAgICAgICAgYCgke2ZpbGUudHlwZSB8fCAnbi9hJ30pIC0gJHtmaWxlLnNpemV9IGJ5dGVzLCBgICsKICAgICAgICBgbGFzdCBtb2RpZmllZDogJHsKICAgICAgICAgICAgZmlsZS5sYXN0TW9kaWZpZWREYXRlID8gZmlsZS5sYXN0TW9kaWZpZWREYXRlLnRvTG9jYWxlRGF0ZVN0cmluZygpIDoKICAgICAgICAgICAgICAgICAgICAgICAgICAgICAgICAgICAgJ24vYSd9IC0gYCkpOwogICAgY29uc3QgcGVyY2VudCA9IHNwYW4oJzAlIGRvbmUnKTsKICAgIGxpLmFwcGVuZENoaWxkKHBlcmNlbnQpOwoKICAgIG91dHB1dEVsZW1lbnQuYXBwZW5kQ2hpbGQobGkpOwoKICAgIGNvbnN0IGZpbGVEYXRhUHJvbWlzZSA9IG5ldyBQcm9taXNlKChyZXNvbHZlKSA9PiB7CiAgICAgIGNvbnN0IHJlYWRlciA9IG5ldyBGaWxlUmVhZGVyKCk7CiAgICAgIHJlYWRlci5vbmxvYWQgPSAoZSkgPT4gewogICAgICAgIHJlc29sdmUoZS50YXJnZXQucmVzdWx0KTsKICAgICAgfTsKICAgICAgcmVhZGVyLnJlYWRBc0FycmF5QnVmZmVyKGZpbGUpOwogICAgfSk7CiAgICAvLyBXYWl0IGZvciB0aGUgZGF0YSB0byBiZSByZWFkeS4KICAgIGxldCBmaWxlRGF0YSA9IHlpZWxkIHsKICAgICAgcHJvbWlzZTogZmlsZURhdGFQcm9taXNlLAogICAgICByZXNwb25zZTogewogICAgICAgIGFjdGlvbjogJ2NvbnRpbnVlJywKICAgICAgfQogICAgfTsKCiAgICAvLyBVc2UgYSBjaHVua2VkIHNlbmRpbmcgdG8gYXZvaWQgbWVzc2FnZSBzaXplIGxpbWl0cy4gU2VlIGIvNjIxMTU2NjAuCiAgICBsZXQgcG9zaXRpb24gPSAwOwogICAgZG8gewogICAgICBjb25zdCBsZW5ndGggPSBNYXRoLm1pbihmaWxlRGF0YS5ieXRlTGVuZ3RoIC0gcG9zaXRpb24sIE1BWF9QQVlMT0FEX1NJWkUpOwogICAgICBjb25zdCBjaHVuayA9IG5ldyBVaW50OEFycmF5KGZpbGVEYXRhLCBwb3NpdGlvbiwgbGVuZ3RoKTsKICAgICAgcG9zaXRpb24gKz0gbGVuZ3RoOwoKICAgICAgY29uc3QgYmFzZTY0ID0gYnRvYShTdHJpbmcuZnJvbUNoYXJDb2RlLmFwcGx5KG51bGwsIGNodW5rKSk7CiAgICAgIHlpZWxkIHsKICAgICAgICByZXNwb25zZTogewogICAgICAgICAgYWN0aW9uOiAnYXBwZW5kJywKICAgICAgICAgIGZpbGU6IGZpbGUubmFtZSwKICAgICAgICAgIGRhdGE6IGJhc2U2NCwKICAgICAgICB9LAogICAgICB9OwoKICAgICAgbGV0IHBlcmNlbnREb25lID0gZmlsZURhdGEuYnl0ZUxlbmd0aCA9PT0gMCA/CiAgICAgICAgICAxMDAgOgogICAgICAgICAgTWF0aC5yb3VuZCgocG9zaXRpb24gLyBmaWxlRGF0YS5ieXRlTGVuZ3RoKSAqIDEwMCk7CiAgICAgIHBlcmNlbnQudGV4dENvbnRlbnQgPSBgJHtwZXJjZW50RG9uZX0lIGRvbmVgOwoKICAgIH0gd2hpbGUgKHBvc2l0aW9uIDwgZmlsZURhdGEuYnl0ZUxlbmd0aCk7CiAgfQoKICAvLyBBbGwgZG9uZS4KICB5aWVsZCB7CiAgICByZXNwb25zZTogewogICAgICBhY3Rpb246ICdjb21wbGV0ZScsCiAgICB9CiAgfTsKfQoKc2NvcGUuZ29vZ2xlID0gc2NvcGUuZ29vZ2xlIHx8IHt9OwpzY29wZS5nb29nbGUuY29sYWIgPSBzY29wZS5nb29nbGUuY29sYWIgfHwge307CnNjb3BlLmdvb2dsZS5jb2xhYi5fZmlsZXMgPSB7CiAgX3VwbG9hZEZpbGVzLAogIF91cGxvYWRGaWxlc0NvbnRpbnVlLAp9Owp9KShzZWxmKTsK",
              "headers": [
                [
                  "content-type",
                  "application/javascript"
                ]
              ],
              "ok": true,
              "status": 200,
              "status_text": ""
            }
          }
        },
        "id": "950wamGU8feo",
        "outputId": "1f399288-52b2-4357-cfd7-f87b8db82763",
        "vscode": {
          "languageId": "python"
        }
      },
      "outputs": [],
      "source": [
        "from google.colab import files\n",
        "uploaded = files.upload()"
      ]
    },
    {
      "cell_type": "markdown",
      "metadata": {
        "id": "fFib_6h4LFN-"
      },
      "source": [
        "Let's load our dataset into memory. It will be loaded using the following code. Dataset file that I have uplaoded is german_credit.arff. Note this loaded data in moemeory is not a Pandas' data frame."
      ]
    },
    {
      "cell_type": "code",
      "execution_count": null,
      "metadata": {
        "id": "J71IoLXo7ehS",
        "vscode": {
          "languageId": "python"
        }
      },
      "outputs": [],
      "source": [
        "from weka.core.converters import Loader\n",
        "from weka.core.classes import Random\n",
        "from weka.classifiers import Classifier, Evaluation"
      ]
    },
    {
      "cell_type": "code",
      "execution_count": null,
      "metadata": {
        "colab": {
          "base_uri": "https://localhost:8080/"
        },
        "id": "loHpb71i8Qc3",
        "outputId": "dbeb595c-765f-48d3-ac42-3b9c4e543be0",
        "vscode": {
          "languageId": "python"
        }
      },
      "outputs": [],
      "source": [
        "loader = Loader(classname=\"weka.core.converters.ArffLoader\")\n",
        "data_file = 'german_credit.arff'\n",
        "#data_file=\"churn.arff\"\n",
        "#data_file=\"bank.arff\"\n",
        "data = loader.load_file(data_file)\n",
        "\n",
        "print('Data set size: ', data.num_instances)"
      ]
    },
    {
      "cell_type": "code",
      "execution_count": null,
      "metadata": {
        "colab": {
          "base_uri": "https://localhost:8080/"
        },
        "id": "i7nY5H1H9IKg",
        "outputId": "349635d5-5c9e-4f74-bbb9-79393a27694d",
        "vscode": {
          "languageId": "python"
        }
      },
      "outputs": [],
      "source": [
        "#Let's look at the attributes and their types\n",
        "# We have two data types here: categorical and numeric.\n",
        "for i in range(data.num_attributes):\n",
        "  print (\"index \",i)\n",
        "  print(data.attribute(i))"
      ]
    },
    {
      "cell_type": "markdown",
      "metadata": {
        "id": "Zxf6oxNvNhQ3"
      },
      "source": [
        "Index of class attribute in our data is 0--creditability. It can be observed above. I am setting up class attribute here."
      ]
    },
    {
      "cell_type": "code",
      "execution_count": null,
      "metadata": {
        "colab": {
          "base_uri": "https://localhost:8080/"
        },
        "id": "JJ-tqCQhJzNx",
        "outputId": "32662ef6-5e72-4f6d-bf80-99ce20e7f960",
        "vscode": {
          "languageId": "python"
        }
      },
      "outputs": [],
      "source": [
        "\n",
        "# index of class atrribute is 0 (Creditability) for German credit card\n",
        "# index of class attribute is 20(Churn) for Churn data set \n",
        "# index of class attribute is 16(y) for bank data set\n",
        "# Again, you can see all the index numbers for attributes by running the previous cell\n",
        "class_idx=0\n",
        "print('Will be classifying on: ', data.attribute(class_idx))\n",
        "data.class_index = class_idx\n"
      ]
    },
    {
      "cell_type": "markdown",
      "metadata": {
        "id": "lhXhHmnPOAUz"
      },
      "source": [
        "Time to split dataset into train and test set."
      ]
    },
    {
      "cell_type": "code",
      "execution_count": null,
      "metadata": {
        "id": "G28k9AC_N_Fa",
        "vscode": {
          "languageId": "python"
        }
      },
      "outputs": [],
      "source": [
        "# Splitting 66% for training and 34% for testing using a seed of 1 for random number generator\n",
        "train, test = data.train_test_split(66.0, Random(1))"
      ]
    },
    {
      "cell_type": "markdown",
      "metadata": {
        "id": "_mzdxH9FOM13"
      },
      "source": [
        "We are now going to train a decision tree. This decision tree is C4.5 decision tree and it's name in Weka is J48. Good thing about this decision tree is that it is the exact implementation of the C4.5 decision tree as in theory and as we studied. C4.5 decision tree algorithm can handle numeric and categorical attributes by itself. So there is no need to convert categorical features(or variables) to numeric features by using on-hot-encoding."
      ]
    },
    {
      "cell_type": "code",
      "execution_count": null,
      "metadata": {
        "colab": {
          "base_uri": "https://localhost:8080/"
        },
        "id": "gktcxueb9Bc8",
        "outputId": "384c1b32-5e40-4d66-df5e-cbcf458319e6",
        "vscode": {
          "languageId": "python"
        }
      },
      "outputs": [],
      "source": [
        "# We are generating a pruned C4.5 decision tree, with a confidence factor used for pruning of 0.25.\n",
        "# You can change it to different threshold values to change the size of the tree.\n",
        "cls = Classifier(classname=\"weka.classifiers.trees.J48\", options=[\"-C\", \"0.25\"])\n",
        "cls.build_classifier(train)\n",
        "# See the tree below. \n",
        "print(cls)"
      ]
    },
    {
      "cell_type": "markdown",
      "metadata": {
        "id": "NpiUmoFnQ-Zn"
      },
      "source": [
        "In the above tree, these values \": 1 (8.0/2.0)\" means the class at the leaf is 1, total training records during evlaution on the training set after building the tree reached here are 8 but only 2 of them were incorrectly predicted."
      ]
    },
    {
      "cell_type": "code",
      "execution_count": null,
      "metadata": {
        "colab": {
          "base_uri": "https://localhost:8080/",
          "height": 35
        },
        "id": "jTdZr1WrC60O",
        "outputId": "812ecc3a-03c7-460d-c5c0-f65cedc16317",
        "vscode": {
          "languageId": "python"
        }
      },
      "outputs": [],
      "source": [
        "#import weka.plot.graph as graph  # If pygrpahviz is installed, you can plot the graph of tree too but it may not work\n",
        "#graph.plot_dot_graph(cls.graph)"
      ]
    },
    {
      "cell_type": "code",
      "execution_count": null,
      "metadata": {
        "colab": {
          "base_uri": "https://localhost:8080/"
        },
        "id": "XHWvxNY1-exr",
        "outputId": "8b12b83c-0da9-427e-ef05-ccfa6d3cab17",
        "vscode": {
          "languageId": "python"
        }
      },
      "outputs": [],
      "source": [
        "# Let's evaluate it on the test set\n",
        "\n",
        "evl = Evaluation(train)\n",
        "evl.test_model(cls, test)\n",
        "print(evl.summary())"
      ]
    },
    {
      "cell_type": "markdown",
      "metadata": {
        "id": "cKTPcA9x-tuZ"
      },
      "source": [
        "Here \"Correctly Classified Instances\"   means accuracy, and \"Total Number of Instances\" means total records in the test set. Ignore everything else as we have not studied them. "
      ]
    },
    {
      "cell_type": "code",
      "execution_count": null,
      "metadata": {
        "colab": {
          "base_uri": "https://localhost:8080/"
        },
        "id": "4yJrmk2o--So",
        "outputId": "355db558-fcb4-4717-b1a1-3b6f4eb00e88",
        "vscode": {
          "languageId": "python"
        }
      },
      "outputs": [],
      "source": [
        "# Here are all the metrics\n",
        "#print (\"Class Index \", class_idx)\n",
        "print(\"Classes at different positions are \",data.attribute(class_idx))\n",
        "\n",
        "print(\"confusion Matrix\")\n",
        "#Note that the TP here will be for the class at the first position printed by the previous line and TN will be for the class at second position\n",
        "print(evl.confusion_matrix)\n",
        "\n",
        "###############\n",
        "# Print metrics for the first class\n",
        "##############\n",
        "class_position=0\n",
        "print(\"\")\n",
        "print (\"Evaluation from the perspective of class at position \"+ str(class_position))\n",
        "print(\"TP \",evl.true_positive_rate(class_position))\n",
        "print(\"FP\",evl.false_positive_rate(class_position))\n",
        "print(\"Precision \",evl.precision(class_position))\n",
        "print(\"Recall \",evl.recall(class_position))\n",
        "\n",
        "\n",
        "###############\n",
        "# Print metrics for the second class\n",
        "##############\n",
        "class_position=1\n",
        "print(\"\")\n",
        "print (\"Evaluation from the perspective of class at position \"+ str(class_position))\n",
        "print(\"TP \",evl.true_positive_rate(class_position))\n",
        "print(\"FP\",evl.false_positive_rate(class_position))\n",
        "print(\"Precision \",evl.precision(class_position))\n",
        "print(\"Recall \",evl.recall(class_position))\n"
      ]
    },
    {
      "cell_type": "markdown",
      "metadata": {
        "id": "qbmNrC80CQef"
      },
      "source": [
        "**Naive Bayes**\n",
        "\n",
        "Below is the code to run Naive Bayes algorithm. It is a different version of Naive Bayes that is suited to both numeric and categorical features(atrributes or variables).\n",
        " (https://weka.sourceforge.io/doc.dev/weka/classifiers/bayes/NaiveBayes.html)"
      ]
    },
    {
      "cell_type": "code",
      "execution_count": null,
      "metadata": {
        "colab": {
          "base_uri": "https://localhost:8080/"
        },
        "id": "y6sCeXdxCUA4",
        "outputId": "b20ab7b0-6928-46cd-c9a2-fd00b1e2cfb8",
        "vscode": {
          "languageId": "python"
        }
      },
      "outputs": [],
      "source": [
        "\n",
        "nb = Classifier(classname=\"weka.classifiers.bayes.NaiveBayes\")\n",
        "nb.build_classifier(train)\n",
        "#let's understand the NB model by printing it\n",
        "print(nb)"
      ]
    },
    {
      "cell_type": "code",
      "execution_count": null,
      "metadata": {
        "colab": {
          "base_uri": "https://localhost:8080/"
        },
        "id": "QXe-81rZKL4I",
        "outputId": "b91f960e-1b03-4bf5-d265-7b28dd624299",
        "vscode": {
          "languageId": "python"
        }
      },
      "outputs": [],
      "source": [
        "# Time for evaluation on the test set\n",
        "evl_nb = Evaluation(train)\n",
        "evl_nb.test_model(nb, test)\n",
        "print(evl_nb.summary())"
      ]
    },
    {
      "cell_type": "code",
      "execution_count": null,
      "metadata": {
        "colab": {
          "base_uri": "https://localhost:8080/"
        },
        "id": "HFZOrkc-KTon",
        "outputId": "6bc9d21a-78c2-45b8-ca6e-cdf79d989a9d",
        "vscode": {
          "languageId": "python"
        }
      },
      "outputs": [],
      "source": [
        "#Here are all the metrics for Naive Bayes\n",
        "\n",
        "print(\"Classes at different positions are \",data.attribute(class_idx))\n",
        "\n",
        "print(\"confusion Matrix\")\n",
        "#Note that the TP here will be for the class at the first position printed by the previous line\n",
        "print(evl_nb.confusion_matrix)\n",
        "\n",
        "###############\n",
        "# Print metrics for the first class\n",
        "##############\n",
        "class_position=0\n",
        "print(\"\")\n",
        "print (\"Evaluation from the perspective of class at position \"+ str(class_position))\n",
        "print(\"TP \",evl_nb.true_positive_rate(class_position))\n",
        "print(\"FP\",evl_nb.false_positive_rate(class_position))\n",
        "print(\"Precision \",evl_nb.precision(class_position))\n",
        "print(\"Recall \",evl_nb.recall(class_position))\n",
        "\n",
        "\n",
        "###############\n",
        "# Print metrics for the second class\n",
        "##############\n",
        "class_position=1\n",
        "print(\"\")\n",
        "print (\"Evaluation from the perspective of class at position \"+ str(class_position))\n",
        "print(\"TP \",evl_nb.true_positive_rate(class_position))\n",
        "print(\"FP\",evl_nb.false_positive_rate(class_position))\n",
        "print(\"Precision \",evl_nb.precision(class_position))\n",
        "print(\"Recall \",evl_nb.recall(class_position))\n"
      ]
    },
    {
      "cell_type": "markdown",
      "metadata": {
        "id": "Ly_pw4iyEDeU"
      },
      "source": [
        "**Appendix**\n",
        "\n",
        "Using the following code  you can find out the best attribute by using the BestFIRst algorithm in Weka. Again it is not necessary to understand the whole code below but if you wanna learn more about BesrFirst and CfsSubsetEval, you can go here https://weka.sourceforge.io/doc.dev/weka/attributeSelection/package-summary.html. You can also replace them with options available on the above site.\n"
      ]
    },
    {
      "cell_type": "code",
      "execution_count": null,
      "metadata": {
        "colab": {
          "base_uri": "https://localhost:8080/"
        },
        "id": "NWeZT913ENxX",
        "outputId": "5cd93615-86bf-4e57-e4a8-f9e2e043d6d0",
        "vscode": {
          "languageId": "python"
        }
      },
      "outputs": [],
      "source": [
        "from weka.attribute_selection import ASSearch, ASEvaluation, AttributeSelection\n",
        "search = ASSearch(classname=\"weka.attributeSelection.BestFirst\", options=[\"-D\", \"1\", \"-N\", \"5\"])\n",
        "evaluator = ASEvaluation(classname=\"weka.attributeSelection.CfsSubsetEval\", options=[\"-P\", \"1\", \"-E\", \"1\"])\n",
        "attsel = AttributeSelection()\n",
        "attsel.search(search)\n",
        "attsel.evaluator(evaluator)\n",
        "attsel.select_attributes(data)\n",
        "\n",
        "print(\"# attributes: \" + str(attsel.number_attributes_selected))\n",
        "print(\"attributes: \" + str(attsel.selected_attributes))\n",
        "print(\"result string:\\n\" + attsel.results_string)"
      ]
    },
    {
      "cell_type": "markdown",
      "metadata": {
        "id": "u3wsg8UrEVNu"
      },
      "source": [
        "Weka's best first search method resulted into above attributes selection. Let's create a new copy of dataset with those attributes only"
      ]
    },
    {
      "cell_type": "code",
      "execution_count": null,
      "metadata": {
        "colab": {
          "base_uri": "https://localhost:8080/"
        },
        "id": "aiPY3RyLElE6",
        "outputId": "d93028b2-286a-445c-a008-6c8ea47dff0c",
        "vscode": {
          "languageId": "python"
        }
      },
      "outputs": [],
      "source": [
        "# As you see above, we only attributes 2,3 and 4 are important as judged by Weka for German Credit card data set. So we are going to load \n",
        "# data again and remove all the attributes from 5-21. Atrribute at index 1 is the class atrribute, so we'll keep that too\n",
        "from weka.filters import Filter\n",
        "\n",
        "data2 = loader.load_file(data_file)\n",
        "# Filtering method 1\n",
        "remove = Filter(classname=\"weka.filters.unsupervised.attribute.Remove\", options=[\"-R\", \"5-21\"])\n",
        "remove.inputformat(data2)\n",
        "filtered_data = remove.filter(data2)\n",
        "\n",
        "print(filtered_data.subset(row_range=\"1-10\"))"
      ]
    },
    {
      "cell_type": "code",
      "execution_count": null,
      "metadata": {
        "id": "2LqlELU2HlcF",
        "vscode": {
          "languageId": "python"
        }
      },
      "outputs": [],
      "source": [
        "#Filtering method 2\n",
        "#Another way of filtering columns usingthe following code. Here we are keeping only features 1-4 and 7.\n",
        "filtered_data=data2.subset(col_range='1-4,7')\n"
      ]
    },
    {
      "cell_type": "markdown",
      "metadata": {
        "id": "Hk0qKKu8DY6q"
      },
      "source": [
        "Now you can remove the above filtered data set as an input data set in the code examples shown above and repeat the experiments.\n",
        "\n",
        "More examples on the use of different functionalities of Weka's Python package are here for curious readers:\n",
        "http://fracpete.github.io/python-weka-wrapper3/examples.html"
      ]
    },
    {
      "cell_type": "code",
      "execution_count": null,
      "metadata": {
        "id": "ycH40LlVHJ3L",
        "vscode": {
          "languageId": "python"
        }
      },
      "outputs": [],
      "source": [
        "#If you are done stop the JVM (Java Virtual Machine)\n",
        "jvm.stop()"
      ]
    },
    {
      "cell_type": "markdown",
      "metadata": {
        "id": "ivD_4uBbW9wP"
      },
      "source": [
        "It turns out that Weka's python package is easier and comprehensive than other Python packages.\n",
        "\n",
        "\n",
        "\n",
        "```\n",
        "For CIND 119 course at Ryerson\n",
        "  by Syed Shariyar Murtaza,Ph.D.\n",
        "```\n",
        "\n"
      ]
    }
  ],
  "metadata": {
    "colab": {
      "collapsed_sections": [],
      "name": "python-weka.ipynb",
      "provenance": []
    },
    "kernelspec": {
      "display_name": "Python 3",
      "name": "python3"
    }
  },
  "nbformat": 4,
  "nbformat_minor": 0
}
